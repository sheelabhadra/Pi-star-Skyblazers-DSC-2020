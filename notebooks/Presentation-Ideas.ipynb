{
 "cells": [
  {
   "cell_type": "markdown",
   "metadata": {},
   "source": [
    "## Webpage ideas\n",
    "- Allow user to enter source, destination, and date of travel\n",
    "    - Show them a list of flights and their expected delays at different times of the day. If the flight is within a week, use external weather data to warn them about delays. \n",
    "- If the user clicks on a time slot and airlines, show them what contributes the most to these delays (top 3 factors maybe)\n",
    "    - weather\n",
    "    - security delays\n",
    "    - cancellation percentage\n",
    "- Ask the user to select which airline they would like to take\n",
    "    - Give them an estimate of the departure and arrival delays with confidence intervals\n",
    "        - The inputs from the user should only be\n",
    "            - Source\n",
    "            - Destination\n",
    "            - Date of travel\n",
    "            - Time of travel\n",
    "            - Airlines"
   ]
  },
  {
   "cell_type": "code",
   "execution_count": null,
   "metadata": {},
   "outputs": [],
   "source": []
  }
 ],
 "metadata": {
  "kernelspec": {
   "display_name": "Python 3",
   "language": "python",
   "name": "python3"
  },
  "language_info": {
   "codemirror_mode": {
    "name": "ipython",
    "version": 3
   },
   "file_extension": ".py",
   "mimetype": "text/x-python",
   "name": "python",
   "nbconvert_exporter": "python",
   "pygments_lexer": "ipython3",
   "version": "3.6.8"
  }
 },
 "nbformat": 4,
 "nbformat_minor": 2
}
