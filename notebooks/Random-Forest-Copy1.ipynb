{
 "cells": [
  {
   "cell_type": "code",
   "execution_count": 1,
   "metadata": {},
   "outputs": [],
   "source": [
    "%load_ext autoreload\n",
    "%autoreload 2\n",
    "\n",
    "%matplotlib inline"
   ]
  },
  {
   "cell_type": "code",
   "execution_count": 2,
   "metadata": {},
   "outputs": [
    {
     "name": "stderr",
     "output_type": "stream",
     "text": [
      "/home/grads/s/sheelabhadra/Projects/Pi-star-Skyblazers-DSC-2020/env/lib/python3.5/site-packages/sklearn/utils/deprecation.py:144: FutureWarning: The sklearn.ensemble.forest module is  deprecated in version 0.22 and will be removed in version 0.24. The corresponding classes / functions should instead be imported from sklearn.ensemble. Anything that cannot be imported from sklearn.ensemble is now part of the private API.\n",
      "  warnings.warn(message, FutureWarning)\n"
     ]
    }
   ],
   "source": [
    "from fastai.imports import *\n",
    "from fastai.structured import *\n",
    "\n",
    "from pandas_summary import DataFrameSummary\n",
    "from sklearn.ensemble import RandomForestRegressor, RandomForestClassifier\n",
    "from IPython.display import display\n",
    "\n",
    "from sklearn import metrics"
   ]
  },
  {
   "cell_type": "code",
   "execution_count": 3,
   "metadata": {},
   "outputs": [],
   "source": [
    "import pandas as pd\n",
    "import numpy as np"
   ]
  },
  {
   "cell_type": "code",
   "execution_count": 4,
   "metadata": {},
   "outputs": [],
   "source": [
    "df_raw = pd.read_pickle('../data/flight_delays.pkl')"
   ]
  },
  {
   "cell_type": "code",
   "execution_count": 5,
   "metadata": {},
   "outputs": [],
   "source": [
    "df_raw['DEP_TIME_HR'] = df_raw['DEP_TIME'].apply(lambda x: x//100 if x != -9999 else -9999)\n",
    "df_raw['DEP_TIME_MIN'] = df_raw['DEP_TIME'].apply(lambda x: x%10 if x != -9999 else -9999)\n",
    "df_raw['ARR_TIME_HR'] = df_raw['ARR_TIME'].apply(lambda x: x//100 if x != -9999 else -9999)\n",
    "df_raw['ARR_TIME_MIN'] = df_raw['ARR_TIME'].apply(lambda x: x%100 if x != -9999 else -9999)\n",
    "df_raw['CRS_DEP_TIME_HR'] = df_raw['CRS_DEP_TIME'].apply(lambda x: x//100 if x != -9999 else -9999)\n",
    "df_raw['CRS_DEP_TIME_MIN'] = df_raw['CRS_DEP_TIME'].apply(lambda x: x%100 if x != -9999 else -9999)\n",
    "df_raw['CRS_ARR_TIME_HR'] = df_raw['CRS_ARR_TIME'].apply(lambda x: x//100 if x != -9999 else -9999)\n",
    "df_raw['CRS_ARR_TIME_MIN'] = df_raw['CRS_ARR_TIME'].apply(lambda x: x%100 if x != -9999 else -9999)"
   ]
  },
  {
   "cell_type": "code",
   "execution_count": 6,
   "metadata": {},
   "outputs": [
    {
     "data": {
      "text/plain": [
       "Index(['YEAR', 'QUARTER', 'MONTH', 'DAY_OF_MONTH', 'DAY_OF_WEEK', 'FL_DATE',\n",
       "       'CARRIER', 'FL_NUM', 'ROUTE', 'ORIGIN', 'DEST', 'DEST_CITY',\n",
       "       'DEST_STATE', 'CRS_DEP_TIME', 'DEP_TIME', 'DEP_DELAY', 'DEP_DELAY_NEW',\n",
       "       'DEP_DEL15', 'DEP_DELAY_GROUP', 'DEP_TIME_BLK', 'TAXI_OUT',\n",
       "       'WHEELS_OFF', 'WHEELS_ON', 'TAXI_IN', 'CRS_ARR_TIME', 'ARR_TIME',\n",
       "       'ARR_DELAY', 'ARR_DELAY_NEW', 'ARR_DEL15', 'ARR_DELAY_GROUP',\n",
       "       'ARR_TIME_BLK', 'CANCELED', 'CANCELLATION_CODE', 'DIVERTED',\n",
       "       'CRS_ELAPSED_TIME', 'ACTUAL_ELAPSED_TIME', 'AIR_TIME', 'DISTANCE',\n",
       "       'CARRIER_DELAY', 'WEATHER_DELAY', 'NAS_DELAY', 'SECURITY_DELAY',\n",
       "       'LATE_AIRCRAFT_DELAY', 'PASSENGERS', 'EMPFULL', 'EMPPART', 'EMPTOTAL',\n",
       "       'EMPFTE', 'NET_INCOME', 'OP_REVENUES', 'DEP_TIME_HR', 'DEP_TIME_MIN',\n",
       "       'ARR_TIME_HR', 'ARR_TIME_MIN', 'CRS_DEP_TIME_HR', 'CRS_DEP_TIME_MIN',\n",
       "       'CRS_ARR_TIME_HR', 'CRS_ARR_TIME_MIN'],\n",
       "      dtype='object')"
      ]
     },
     "execution_count": 6,
     "metadata": {},
     "output_type": "execute_result"
    }
   ],
   "source": [
    "df_raw.columns"
   ]
  },
  {
   "cell_type": "code",
   "execution_count": 7,
   "metadata": {},
   "outputs": [],
   "source": [
    "cols_to_keep = ['YEAR', 'QUARTER', 'MONTH', 'DAY_OF_MONTH', 'DAY_OF_WEEK', 'FL_DATE',\n",
    "       'CARRIER', 'FL_NUM', 'ROUTE', 'ORIGIN', 'DEST', 'DEP_DELAY_NEW',\n",
    "       'DEP_DEL15', 'DEP_DELAY_GROUP', 'DEP_TIME_BLK', 'ARR_TIME_BLK', 'CRS_ELAPSED_TIME', 'DISTANCE',\n",
    "       'CARRIER_DELAY', 'WEATHER_DELAY', 'NAS_DELAY', 'SECURITY_DELAY',\n",
    "       'LATE_AIRCRAFT_DELAY', 'PASSENGERS', 'EMPFULL', 'EMPPART', 'EMPTOTAL',\n",
    "       'EMPFTE', 'NET_INCOME', 'OP_REVENUES', 'DEP_TIME_HR', 'DEP_TIME_MIN',\n",
    "       'ARR_TIME_HR', 'ARR_TIME_MIN', 'CRS_DEP_TIME_HR', 'CRS_DEP_TIME_MIN',\n",
    "       'CRS_ARR_TIME_HR', 'CRS_ARR_TIME_MIN']"
   ]
  },
  {
   "cell_type": "code",
   "execution_count": 8,
   "metadata": {},
   "outputs": [],
   "source": [
    "df_trim = df_raw[cols_to_keep]\n",
    "del df_raw"
   ]
  },
  {
   "cell_type": "code",
   "execution_count": 9,
   "metadata": {},
   "outputs": [],
   "source": [
    "def replace_with_nan(df, element, cols):\n",
    "    for col in cols:\n",
    "        df[col].replace(element, np.nan, inplace=True)"
   ]
  },
  {
   "cell_type": "code",
   "execution_count": 10,
   "metadata": {},
   "outputs": [],
   "source": [
    "replace_with_nan(df_trim, -9999, df_trim.columns)"
   ]
  },
  {
   "cell_type": "code",
   "execution_count": 11,
   "metadata": {},
   "outputs": [],
   "source": [
    "# Consider delays that are only less than 60 mins\n",
    "df_trim = df_trim[df_trim['DEP_DELAY_NEW'] < 60]\n",
    "df_trim.reset_index(drop=True, inplace=True)"
   ]
  },
  {
   "cell_type": "code",
   "execution_count": 12,
   "metadata": {},
   "outputs": [
    {
     "name": "stdout",
     "output_type": "stream",
     "text": [
      "(10007760, 38)\n"
     ]
    }
   ],
   "source": [
    "print(df_trim.shape)"
   ]
  },
  {
   "cell_type": "markdown",
   "metadata": {},
   "source": [
    "## Feature Engineering"
   ]
  },
  {
   "cell_type": "code",
   "execution_count": 13,
   "metadata": {},
   "outputs": [],
   "source": [
    "# 1. Aggregate number of flights by origin, and dep_time_blk\n",
    "res = df_trim.groupby(['ORIGIN', 'DEP_TIME_BLK']).agg({'DEP_DELAY_NEW': 'count'}).reset_index().rename(columns={'DEP_DELAY_NEW': 'FLIGHTS_ORIGIN'})"
   ]
  },
  {
   "cell_type": "code",
   "execution_count": 14,
   "metadata": {},
   "outputs": [],
   "source": [
    "df_trim = pd.merge(df_trim, res, on=['ORIGIN', 'DEP_TIME_BLK'], how='inner')"
   ]
  },
  {
   "cell_type": "code",
   "execution_count": 15,
   "metadata": {},
   "outputs": [],
   "source": [
    "# 2. Aggregate number of passengers by origin and dep_time_blk\n",
    "res = df_trim.groupby(['ORIGIN', 'DEP_TIME_BLK']).agg({'PASSENGERS': 'sum'}).reset_index().rename(columns={'PASSENGERS': 'PASSENGERS_ORIGIN'})\n",
    "df_trim = pd.merge(df_trim, res, on=['ORIGIN', 'DEP_TIME_BLK'], how='inner')"
   ]
  },
  {
   "cell_type": "code",
   "execution_count": 16,
   "metadata": {},
   "outputs": [],
   "source": [
    "# 3. Aggregate number of outgoing flights by origin, carrier, and dep_time_blk\n",
    "res = df_trim.groupby(['ORIGIN', 'CARRIER','DEP_TIME_BLK']).agg({'DEP_DELAY_NEW': 'count'}).reset_index().rename(columns={'DEP_DELAY_NEW': 'FLIGHTS_OUT'})\n",
    "df_trim = pd.merge(df_trim, res, on=['ORIGIN', 'CARRIER', 'DEP_TIME_BLK'], how='inner')"
   ]
  },
  {
   "cell_type": "code",
   "execution_count": 17,
   "metadata": {},
   "outputs": [],
   "source": [
    "# 4. Aggregate number of incoming flights by dest, carrier, and arr_time_blk\n",
    "res = df_trim.groupby(['DEST', 'CARRIER','ARR_TIME_BLK']).agg({'DEP_DELAY_NEW': 'count'}).reset_index().rename(columns={'DEP_DELAY_NEW': 'FLIGHTS_IN'})\n",
    "df_trim = pd.merge(df_trim, res, on=['DEST', 'CARRIER', 'ARR_TIME_BLK'], how='inner')"
   ]
  },
  {
   "cell_type": "code",
   "execution_count": 18,
   "metadata": {},
   "outputs": [
    {
     "data": {
      "text/html": [
       "<div>\n",
       "<style scoped>\n",
       "    .dataframe tbody tr th:only-of-type {\n",
       "        vertical-align: middle;\n",
       "    }\n",
       "\n",
       "    .dataframe tbody tr th {\n",
       "        vertical-align: top;\n",
       "    }\n",
       "\n",
       "    .dataframe thead th {\n",
       "        text-align: right;\n",
       "    }\n",
       "</style>\n",
       "<table border=\"1\" class=\"dataframe\">\n",
       "  <thead>\n",
       "    <tr style=\"text-align: right;\">\n",
       "      <th></th>\n",
       "      <th>0</th>\n",
       "      <th>1</th>\n",
       "      <th>2</th>\n",
       "      <th>3</th>\n",
       "      <th>4</th>\n",
       "    </tr>\n",
       "  </thead>\n",
       "  <tbody>\n",
       "    <tr>\n",
       "      <th>YEAR</th>\n",
       "      <td>2018</td>\n",
       "      <td>2018</td>\n",
       "      <td>2018</td>\n",
       "      <td>2018</td>\n",
       "      <td>2018</td>\n",
       "    </tr>\n",
       "    <tr>\n",
       "      <th>QUARTER</th>\n",
       "      <td>1</td>\n",
       "      <td>1</td>\n",
       "      <td>1</td>\n",
       "      <td>1</td>\n",
       "      <td>1</td>\n",
       "    </tr>\n",
       "    <tr>\n",
       "      <th>MONTH</th>\n",
       "      <td>1</td>\n",
       "      <td>1</td>\n",
       "      <td>1</td>\n",
       "      <td>1</td>\n",
       "      <td>1</td>\n",
       "    </tr>\n",
       "    <tr>\n",
       "      <th>DAY_OF_MONTH</th>\n",
       "      <td>1</td>\n",
       "      <td>1</td>\n",
       "      <td>2</td>\n",
       "      <td>3</td>\n",
       "      <td>4</td>\n",
       "    </tr>\n",
       "    <tr>\n",
       "      <th>DAY_OF_WEEK</th>\n",
       "      <td>1</td>\n",
       "      <td>1</td>\n",
       "      <td>2</td>\n",
       "      <td>3</td>\n",
       "      <td>4</td>\n",
       "    </tr>\n",
       "    <tr>\n",
       "      <th>FL_DATE</th>\n",
       "      <td>2018-01-01 00:00:00</td>\n",
       "      <td>2018-01-01 00:00:00</td>\n",
       "      <td>2018-01-02 00:00:00</td>\n",
       "      <td>2018-01-03 00:00:00</td>\n",
       "      <td>2018-01-04 00:00:00</td>\n",
       "    </tr>\n",
       "    <tr>\n",
       "      <th>CARRIER</th>\n",
       "      <td>9E</td>\n",
       "      <td>9E</td>\n",
       "      <td>9E</td>\n",
       "      <td>9E</td>\n",
       "      <td>9E</td>\n",
       "    </tr>\n",
       "    <tr>\n",
       "      <th>FL_NUM</th>\n",
       "      <td>3331</td>\n",
       "      <td>3361</td>\n",
       "      <td>3361</td>\n",
       "      <td>3293</td>\n",
       "      <td>3293</td>\n",
       "    </tr>\n",
       "    <tr>\n",
       "      <th>ROUTE</th>\n",
       "      <td>42</td>\n",
       "      <td>63</td>\n",
       "      <td>63</td>\n",
       "      <td>63</td>\n",
       "      <td>63</td>\n",
       "    </tr>\n",
       "    <tr>\n",
       "      <th>ORIGIN</th>\n",
       "      <td>ABY</td>\n",
       "      <td>AEX</td>\n",
       "      <td>AEX</td>\n",
       "      <td>AEX</td>\n",
       "      <td>AEX</td>\n",
       "    </tr>\n",
       "    <tr>\n",
       "      <th>DEST</th>\n",
       "      <td>ATL</td>\n",
       "      <td>ATL</td>\n",
       "      <td>ATL</td>\n",
       "      <td>ATL</td>\n",
       "      <td>ATL</td>\n",
       "    </tr>\n",
       "    <tr>\n",
       "      <th>DEP_DELAY_NEW</th>\n",
       "      <td>0</td>\n",
       "      <td>0</td>\n",
       "      <td>0</td>\n",
       "      <td>0</td>\n",
       "      <td>0</td>\n",
       "    </tr>\n",
       "    <tr>\n",
       "      <th>DEP_DEL15</th>\n",
       "      <td>0</td>\n",
       "      <td>0</td>\n",
       "      <td>0</td>\n",
       "      <td>0</td>\n",
       "      <td>0</td>\n",
       "    </tr>\n",
       "    <tr>\n",
       "      <th>DEP_DELAY_GROUP</th>\n",
       "      <td>-1</td>\n",
       "      <td>-1</td>\n",
       "      <td>-1</td>\n",
       "      <td>-1</td>\n",
       "      <td>-1</td>\n",
       "    </tr>\n",
       "    <tr>\n",
       "      <th>DEP_TIME_BLK</th>\n",
       "      <td>0700-0759</td>\n",
       "      <td>0600-0659</td>\n",
       "      <td>0600-0659</td>\n",
       "      <td>0600-0659</td>\n",
       "      <td>0600-0659</td>\n",
       "    </tr>\n",
       "    <tr>\n",
       "      <th>ARR_TIME_BLK</th>\n",
       "      <td>0800-0859</td>\n",
       "      <td>0800-0859</td>\n",
       "      <td>0800-0859</td>\n",
       "      <td>0800-0859</td>\n",
       "      <td>0800-0859</td>\n",
       "    </tr>\n",
       "    <tr>\n",
       "      <th>CRS_ELAPSED_TIME</th>\n",
       "      <td>63</td>\n",
       "      <td>110</td>\n",
       "      <td>110</td>\n",
       "      <td>110</td>\n",
       "      <td>110</td>\n",
       "    </tr>\n",
       "    <tr>\n",
       "      <th>DISTANCE</th>\n",
       "      <td>145</td>\n",
       "      <td>500</td>\n",
       "      <td>500</td>\n",
       "      <td>500</td>\n",
       "      <td>500</td>\n",
       "    </tr>\n",
       "    <tr>\n",
       "      <th>CARRIER_DELAY</th>\n",
       "      <td>NaN</td>\n",
       "      <td>NaN</td>\n",
       "      <td>NaN</td>\n",
       "      <td>NaN</td>\n",
       "      <td>NaN</td>\n",
       "    </tr>\n",
       "    <tr>\n",
       "      <th>WEATHER_DELAY</th>\n",
       "      <td>NaN</td>\n",
       "      <td>NaN</td>\n",
       "      <td>NaN</td>\n",
       "      <td>NaN</td>\n",
       "      <td>NaN</td>\n",
       "    </tr>\n",
       "    <tr>\n",
       "      <th>NAS_DELAY</th>\n",
       "      <td>NaN</td>\n",
       "      <td>NaN</td>\n",
       "      <td>NaN</td>\n",
       "      <td>NaN</td>\n",
       "      <td>NaN</td>\n",
       "    </tr>\n",
       "    <tr>\n",
       "      <th>SECURITY_DELAY</th>\n",
       "      <td>NaN</td>\n",
       "      <td>NaN</td>\n",
       "      <td>NaN</td>\n",
       "      <td>NaN</td>\n",
       "      <td>NaN</td>\n",
       "    </tr>\n",
       "    <tr>\n",
       "      <th>LATE_AIRCRAFT_DELAY</th>\n",
       "      <td>NaN</td>\n",
       "      <td>NaN</td>\n",
       "      <td>NaN</td>\n",
       "      <td>NaN</td>\n",
       "      <td>NaN</td>\n",
       "    </tr>\n",
       "    <tr>\n",
       "      <th>PASSENGERS</th>\n",
       "      <td>2677</td>\n",
       "      <td>3397</td>\n",
       "      <td>3397</td>\n",
       "      <td>3397</td>\n",
       "      <td>3397</td>\n",
       "    </tr>\n",
       "    <tr>\n",
       "      <th>EMPFULL</th>\n",
       "      <td>4191</td>\n",
       "      <td>4191</td>\n",
       "      <td>4191</td>\n",
       "      <td>4191</td>\n",
       "      <td>4191</td>\n",
       "    </tr>\n",
       "    <tr>\n",
       "      <th>EMPPART</th>\n",
       "      <td>109</td>\n",
       "      <td>109</td>\n",
       "      <td>109</td>\n",
       "      <td>109</td>\n",
       "      <td>109</td>\n",
       "    </tr>\n",
       "    <tr>\n",
       "      <th>EMPTOTAL</th>\n",
       "      <td>4300</td>\n",
       "      <td>4300</td>\n",
       "      <td>4300</td>\n",
       "      <td>4300</td>\n",
       "      <td>4300</td>\n",
       "    </tr>\n",
       "    <tr>\n",
       "      <th>EMPFTE</th>\n",
       "      <td>4246</td>\n",
       "      <td>4246</td>\n",
       "      <td>4246</td>\n",
       "      <td>4246</td>\n",
       "      <td>4246</td>\n",
       "    </tr>\n",
       "    <tr>\n",
       "      <th>NET_INCOME</th>\n",
       "      <td>-126.37</td>\n",
       "      <td>-126.37</td>\n",
       "      <td>-126.37</td>\n",
       "      <td>-126.37</td>\n",
       "      <td>-126.37</td>\n",
       "    </tr>\n",
       "    <tr>\n",
       "      <th>OP_REVENUES</th>\n",
       "      <td>674.25</td>\n",
       "      <td>674.25</td>\n",
       "      <td>674.25</td>\n",
       "      <td>674.25</td>\n",
       "      <td>674.25</td>\n",
       "    </tr>\n",
       "    <tr>\n",
       "      <th>DEP_TIME_HR</th>\n",
       "      <td>6</td>\n",
       "      <td>5</td>\n",
       "      <td>5</td>\n",
       "      <td>6</td>\n",
       "      <td>5</td>\n",
       "    </tr>\n",
       "    <tr>\n",
       "      <th>DEP_TIME_MIN</th>\n",
       "      <td>6</td>\n",
       "      <td>4</td>\n",
       "      <td>6</td>\n",
       "      <td>1</td>\n",
       "      <td>8</td>\n",
       "    </tr>\n",
       "    <tr>\n",
       "      <th>ARR_TIME_HR</th>\n",
       "      <td>7</td>\n",
       "      <td>8</td>\n",
       "      <td>8</td>\n",
       "      <td>8</td>\n",
       "      <td>8</td>\n",
       "    </tr>\n",
       "    <tr>\n",
       "      <th>ARR_TIME_MIN</th>\n",
       "      <td>51</td>\n",
       "      <td>26</td>\n",
       "      <td>45</td>\n",
       "      <td>30</td>\n",
       "      <td>47</td>\n",
       "    </tr>\n",
       "    <tr>\n",
       "      <th>CRS_DEP_TIME_HR</th>\n",
       "      <td>7</td>\n",
       "      <td>6</td>\n",
       "      <td>6</td>\n",
       "      <td>6</td>\n",
       "      <td>6</td>\n",
       "    </tr>\n",
       "    <tr>\n",
       "      <th>CRS_DEP_TIME_MIN</th>\n",
       "      <td>0</td>\n",
       "      <td>0</td>\n",
       "      <td>0</td>\n",
       "      <td>5</td>\n",
       "      <td>5</td>\n",
       "    </tr>\n",
       "    <tr>\n",
       "      <th>CRS_ARR_TIME_HR</th>\n",
       "      <td>8</td>\n",
       "      <td>8</td>\n",
       "      <td>8</td>\n",
       "      <td>8</td>\n",
       "      <td>8</td>\n",
       "    </tr>\n",
       "    <tr>\n",
       "      <th>CRS_ARR_TIME_MIN</th>\n",
       "      <td>3</td>\n",
       "      <td>50</td>\n",
       "      <td>50</td>\n",
       "      <td>55</td>\n",
       "      <td>55</td>\n",
       "    </tr>\n",
       "    <tr>\n",
       "      <th>FLIGHTS_ORIGIN</th>\n",
       "      <td>1</td>\n",
       "      <td>1006</td>\n",
       "      <td>1006</td>\n",
       "      <td>1006</td>\n",
       "      <td>1006</td>\n",
       "    </tr>\n",
       "    <tr>\n",
       "      <th>PASSENGERS_ORIGIN</th>\n",
       "      <td>2677</td>\n",
       "      <td>3.53162e+06</td>\n",
       "      <td>3.53162e+06</td>\n",
       "      <td>3.53162e+06</td>\n",
       "      <td>3.53162e+06</td>\n",
       "    </tr>\n",
       "    <tr>\n",
       "      <th>FLIGHTS_OUT</th>\n",
       "      <td>1</td>\n",
       "      <td>296</td>\n",
       "      <td>296</td>\n",
       "      <td>296</td>\n",
       "      <td>296</td>\n",
       "    </tr>\n",
       "    <tr>\n",
       "      <th>FLIGHTS_IN</th>\n",
       "      <td>3637</td>\n",
       "      <td>3637</td>\n",
       "      <td>3637</td>\n",
       "      <td>3637</td>\n",
       "      <td>3637</td>\n",
       "    </tr>\n",
       "  </tbody>\n",
       "</table>\n",
       "</div>"
      ],
      "text/plain": [
       "                                       0                    1  \\\n",
       "YEAR                                2018                 2018   \n",
       "QUARTER                                1                    1   \n",
       "MONTH                                  1                    1   \n",
       "DAY_OF_MONTH                           1                    1   \n",
       "DAY_OF_WEEK                            1                    1   \n",
       "FL_DATE              2018-01-01 00:00:00  2018-01-01 00:00:00   \n",
       "CARRIER                               9E                   9E   \n",
       "FL_NUM                              3331                 3361   \n",
       "ROUTE                                 42                   63   \n",
       "ORIGIN                               ABY                  AEX   \n",
       "DEST                                 ATL                  ATL   \n",
       "DEP_DELAY_NEW                          0                    0   \n",
       "DEP_DEL15                              0                    0   \n",
       "DEP_DELAY_GROUP                       -1                   -1   \n",
       "DEP_TIME_BLK                   0700-0759            0600-0659   \n",
       "ARR_TIME_BLK                   0800-0859            0800-0859   \n",
       "CRS_ELAPSED_TIME                      63                  110   \n",
       "DISTANCE                             145                  500   \n",
       "CARRIER_DELAY                        NaN                  NaN   \n",
       "WEATHER_DELAY                        NaN                  NaN   \n",
       "NAS_DELAY                            NaN                  NaN   \n",
       "SECURITY_DELAY                       NaN                  NaN   \n",
       "LATE_AIRCRAFT_DELAY                  NaN                  NaN   \n",
       "PASSENGERS                          2677                 3397   \n",
       "EMPFULL                             4191                 4191   \n",
       "EMPPART                              109                  109   \n",
       "EMPTOTAL                            4300                 4300   \n",
       "EMPFTE                              4246                 4246   \n",
       "NET_INCOME                       -126.37              -126.37   \n",
       "OP_REVENUES                       674.25               674.25   \n",
       "DEP_TIME_HR                            6                    5   \n",
       "DEP_TIME_MIN                           6                    4   \n",
       "ARR_TIME_HR                            7                    8   \n",
       "ARR_TIME_MIN                          51                   26   \n",
       "CRS_DEP_TIME_HR                        7                    6   \n",
       "CRS_DEP_TIME_MIN                       0                    0   \n",
       "CRS_ARR_TIME_HR                        8                    8   \n",
       "CRS_ARR_TIME_MIN                       3                   50   \n",
       "FLIGHTS_ORIGIN                         1                 1006   \n",
       "PASSENGERS_ORIGIN                   2677          3.53162e+06   \n",
       "FLIGHTS_OUT                            1                  296   \n",
       "FLIGHTS_IN                          3637                 3637   \n",
       "\n",
       "                                       2                    3  \\\n",
       "YEAR                                2018                 2018   \n",
       "QUARTER                                1                    1   \n",
       "MONTH                                  1                    1   \n",
       "DAY_OF_MONTH                           2                    3   \n",
       "DAY_OF_WEEK                            2                    3   \n",
       "FL_DATE              2018-01-02 00:00:00  2018-01-03 00:00:00   \n",
       "CARRIER                               9E                   9E   \n",
       "FL_NUM                              3361                 3293   \n",
       "ROUTE                                 63                   63   \n",
       "ORIGIN                               AEX                  AEX   \n",
       "DEST                                 ATL                  ATL   \n",
       "DEP_DELAY_NEW                          0                    0   \n",
       "DEP_DEL15                              0                    0   \n",
       "DEP_DELAY_GROUP                       -1                   -1   \n",
       "DEP_TIME_BLK                   0600-0659            0600-0659   \n",
       "ARR_TIME_BLK                   0800-0859            0800-0859   \n",
       "CRS_ELAPSED_TIME                     110                  110   \n",
       "DISTANCE                             500                  500   \n",
       "CARRIER_DELAY                        NaN                  NaN   \n",
       "WEATHER_DELAY                        NaN                  NaN   \n",
       "NAS_DELAY                            NaN                  NaN   \n",
       "SECURITY_DELAY                       NaN                  NaN   \n",
       "LATE_AIRCRAFT_DELAY                  NaN                  NaN   \n",
       "PASSENGERS                          3397                 3397   \n",
       "EMPFULL                             4191                 4191   \n",
       "EMPPART                              109                  109   \n",
       "EMPTOTAL                            4300                 4300   \n",
       "EMPFTE                              4246                 4246   \n",
       "NET_INCOME                       -126.37              -126.37   \n",
       "OP_REVENUES                       674.25               674.25   \n",
       "DEP_TIME_HR                            5                    6   \n",
       "DEP_TIME_MIN                           6                    1   \n",
       "ARR_TIME_HR                            8                    8   \n",
       "ARR_TIME_MIN                          45                   30   \n",
       "CRS_DEP_TIME_HR                        6                    6   \n",
       "CRS_DEP_TIME_MIN                       0                    5   \n",
       "CRS_ARR_TIME_HR                        8                    8   \n",
       "CRS_ARR_TIME_MIN                      50                   55   \n",
       "FLIGHTS_ORIGIN                      1006                 1006   \n",
       "PASSENGERS_ORIGIN            3.53162e+06          3.53162e+06   \n",
       "FLIGHTS_OUT                          296                  296   \n",
       "FLIGHTS_IN                          3637                 3637   \n",
       "\n",
       "                                       4  \n",
       "YEAR                                2018  \n",
       "QUARTER                                1  \n",
       "MONTH                                  1  \n",
       "DAY_OF_MONTH                           4  \n",
       "DAY_OF_WEEK                            4  \n",
       "FL_DATE              2018-01-04 00:00:00  \n",
       "CARRIER                               9E  \n",
       "FL_NUM                              3293  \n",
       "ROUTE                                 63  \n",
       "ORIGIN                               AEX  \n",
       "DEST                                 ATL  \n",
       "DEP_DELAY_NEW                          0  \n",
       "DEP_DEL15                              0  \n",
       "DEP_DELAY_GROUP                       -1  \n",
       "DEP_TIME_BLK                   0600-0659  \n",
       "ARR_TIME_BLK                   0800-0859  \n",
       "CRS_ELAPSED_TIME                     110  \n",
       "DISTANCE                             500  \n",
       "CARRIER_DELAY                        NaN  \n",
       "WEATHER_DELAY                        NaN  \n",
       "NAS_DELAY                            NaN  \n",
       "SECURITY_DELAY                       NaN  \n",
       "LATE_AIRCRAFT_DELAY                  NaN  \n",
       "PASSENGERS                          3397  \n",
       "EMPFULL                             4191  \n",
       "EMPPART                              109  \n",
       "EMPTOTAL                            4300  \n",
       "EMPFTE                              4246  \n",
       "NET_INCOME                       -126.37  \n",
       "OP_REVENUES                       674.25  \n",
       "DEP_TIME_HR                            5  \n",
       "DEP_TIME_MIN                           8  \n",
       "ARR_TIME_HR                            8  \n",
       "ARR_TIME_MIN                          47  \n",
       "CRS_DEP_TIME_HR                        6  \n",
       "CRS_DEP_TIME_MIN                       5  \n",
       "CRS_ARR_TIME_HR                        8  \n",
       "CRS_ARR_TIME_MIN                      55  \n",
       "FLIGHTS_ORIGIN                      1006  \n",
       "PASSENGERS_ORIGIN            3.53162e+06  \n",
       "FLIGHTS_OUT                          296  \n",
       "FLIGHTS_IN                          3637  "
      ]
     },
     "execution_count": 18,
     "metadata": {},
     "output_type": "execute_result"
    }
   ],
   "source": [
    "df_trim.head().T"
   ]
  },
  {
   "cell_type": "code",
   "execution_count": null,
   "metadata": {},
   "outputs": [],
   "source": []
  },
  {
   "cell_type": "code",
   "execution_count": null,
   "metadata": {},
   "outputs": [],
   "source": []
  },
  {
   "cell_type": "code",
   "execution_count": null,
   "metadata": {},
   "outputs": [],
   "source": []
  },
  {
   "cell_type": "code",
   "execution_count": 19,
   "metadata": {},
   "outputs": [],
   "source": [
    "def read_column_types(excel_file_path):\n",
    "    df = pd.read_excel(excel_file_path)\n",
    "    category_cols, numeric_cols, date_cols = [], [], []\n",
    "    for _, row in df.iterrows():\n",
    "        if row['TYPE'] == 'Nominal' or row['TYPE'] == 'Ordinal' or row['TYPE'] == 'Binary':\n",
    "            category_cols.append(row['ATTRIBUTE'])\n",
    "        if row['TYPE'] == 'Interval':\n",
    "            numeric_cols.append(row['ATTRIBUTE'])\n",
    "        if row['TYPE'] == 'yyyymmdd':\n",
    "            date_cols.append(row['ATTRIBUTE'])\n",
    "    return category_cols, numeric_cols, date_cols\n",
    "\n",
    "def add_column_names(category_cols, numeric_cols, date_cols, cols, col_type=\"Category\"):\n",
    "    if col_type == \"Category\":\n",
    "        category_cols.extend(cols)\n",
    "    if col_type == \"Numeric\":\n",
    "        numeric_cols.extend(cols)\n",
    "    if col_type == \"Datetime\":\n",
    "        date_cols.extend(cols)\n",
    "    return category_cols, numeric_cols, date_cols\n",
    "\n",
    "def convert_to_categorical(df, cols):\n",
    "    for col in cols:\n",
    "        df[col] = pd.Categorical(df[col])\n",
    "        df[col].astype('category', inplace=True)"
   ]
  },
  {
   "cell_type": "code",
   "execution_count": 20,
   "metadata": {},
   "outputs": [],
   "source": [
    "c, n, d = read_column_types('../data/FlightDataDescription.xlsx')\n",
    "c, n, d = add_column_names(c, n, d, cols=['CARRIER'], col_type=\"Category\")"
   ]
  },
  {
   "cell_type": "code",
   "execution_count": 21,
   "metadata": {},
   "outputs": [
    {
     "data": {
      "text/plain": [
       "Index(['YEAR', 'QUARTER', 'MONTH', 'DAY_OF_MONTH', 'DAY_OF_WEEK', 'FL_DATE',\n",
       "       'CARRIER', 'FL_NUM', 'ROUTE', 'ORIGIN', 'DEST', 'DEP_DELAY_NEW',\n",
       "       'DEP_DEL15', 'DEP_DELAY_GROUP', 'DEP_TIME_BLK', 'ARR_TIME_BLK',\n",
       "       'CRS_ELAPSED_TIME', 'DISTANCE', 'CARRIER_DELAY', 'WEATHER_DELAY',\n",
       "       'NAS_DELAY', 'SECURITY_DELAY', 'LATE_AIRCRAFT_DELAY', 'PASSENGERS',\n",
       "       'EMPFULL', 'EMPPART', 'EMPTOTAL', 'EMPFTE', 'NET_INCOME', 'OP_REVENUES',\n",
       "       'DEP_TIME_HR', 'DEP_TIME_MIN', 'ARR_TIME_HR', 'ARR_TIME_MIN',\n",
       "       'CRS_DEP_TIME_HR', 'CRS_DEP_TIME_MIN', 'CRS_ARR_TIME_HR',\n",
       "       'CRS_ARR_TIME_MIN', 'FLIGHTS_ORIGIN', 'PASSENGERS_ORIGIN',\n",
       "       'FLIGHTS_OUT', 'FLIGHTS_IN'],\n",
       "      dtype='object')"
      ]
     },
     "execution_count": 21,
     "metadata": {},
     "output_type": "execute_result"
    }
   ],
   "source": [
    "df_trim.columns"
   ]
  },
  {
   "cell_type": "code",
   "execution_count": 22,
   "metadata": {},
   "outputs": [],
   "source": [
    "c = ['YEAR', 'CARRIER', 'FL_NUM', 'ROUTE', 'ORIGIN', 'DEST', 'DEP_DEL15', 'DEP_DELAY_GROUP', \n",
    "     'DEP_TIME_BLK', 'ARR_TIME_BLK']"
   ]
  },
  {
   "cell_type": "code",
   "execution_count": 23,
   "metadata": {},
   "outputs": [],
   "source": [
    "convert_to_categorical(df_trim, c)"
   ]
  },
  {
   "cell_type": "code",
   "execution_count": 24,
   "metadata": {},
   "outputs": [],
   "source": [
    "def convert_to_integer(df, cols):\n",
    "    for col in cols:\n",
    "        df[col] = df[col].round().astype('int64')"
   ]
  },
  {
   "cell_type": "code",
   "execution_count": 25,
   "metadata": {},
   "outputs": [],
   "source": [
    "# convert_to_integer(df_raw, n + ['DEP_TIME_HR', 'DEP_TIME_MIN',\n",
    "#        'ARR_TIME_HR', 'ARR_TIME_MIN', 'CRS_DEP_TIME_HR', 'CRS_DEP_TIME_MIN',\n",
    "#        'CRS_ARR_TIME_HR', 'CRS_ARR_TIME_MIN'])"
   ]
  },
  {
   "cell_type": "code",
   "execution_count": 26,
   "metadata": {},
   "outputs": [],
   "source": [
    "cols_to_keep = ['YEAR', 'QUARTER', 'MONTH', 'DAY_OF_MONTH', 'DAY_OF_WEEK',\n",
    "       'CARRIER', 'FL_NUM', 'ROUTE', 'ORIGIN', 'DEST', \n",
    "       'CRS_DEP_TIME_HR', 'CRS_ARR_TIME_HR', 'CRS_ELAPSED_TIME', 'CRS_DEP_TIME_MIN', 'CRS_ARR_TIME_MIN',\n",
    "       'ARR_TIME_BLK', 'DEP_TIME_BLK',\n",
    "       'DISTANCE', 'PASSENGERS', 'EMPFULL', 'EMPPART', 'EMPTOTAL',\n",
    "       'EMPFTE', 'NET_INCOME', 'OP_REVENUES', 'FLIGHTS_ORIGIN', 'PASSENGERS_ORIGIN',\n",
    "       'FLIGHTS_OUT', 'FLIGHTS_IN',\n",
    "       'DEP_DELAY_NEW']"
   ]
  },
  {
   "cell_type": "code",
   "execution_count": 35,
   "metadata": {},
   "outputs": [],
   "source": [
    "df, y, nas = proc_df(df_trim[cols_to_keep], 'DEP_DELAY_NEW')"
   ]
  },
  {
   "cell_type": "code",
   "execution_count": 36,
   "metadata": {},
   "outputs": [
    {
     "data": {
      "text/html": [
       "<div>\n",
       "<style scoped>\n",
       "    .dataframe tbody tr th:only-of-type {\n",
       "        vertical-align: middle;\n",
       "    }\n",
       "\n",
       "    .dataframe tbody tr th {\n",
       "        vertical-align: top;\n",
       "    }\n",
       "\n",
       "    .dataframe thead th {\n",
       "        text-align: right;\n",
       "    }\n",
       "</style>\n",
       "<table border=\"1\" class=\"dataframe\">\n",
       "  <thead>\n",
       "    <tr style=\"text-align: right;\">\n",
       "      <th></th>\n",
       "      <th>0</th>\n",
       "      <th>1</th>\n",
       "      <th>2</th>\n",
       "      <th>3</th>\n",
       "      <th>4</th>\n",
       "    </tr>\n",
       "  </thead>\n",
       "  <tbody>\n",
       "    <tr>\n",
       "      <th>YEAR</th>\n",
       "      <td>1</td>\n",
       "      <td>1</td>\n",
       "      <td>1</td>\n",
       "      <td>1</td>\n",
       "      <td>1</td>\n",
       "    </tr>\n",
       "    <tr>\n",
       "      <th>QUARTER</th>\n",
       "      <td>1</td>\n",
       "      <td>1</td>\n",
       "      <td>1</td>\n",
       "      <td>1</td>\n",
       "      <td>1</td>\n",
       "    </tr>\n",
       "    <tr>\n",
       "      <th>MONTH</th>\n",
       "      <td>1</td>\n",
       "      <td>1</td>\n",
       "      <td>1</td>\n",
       "      <td>1</td>\n",
       "      <td>1</td>\n",
       "    </tr>\n",
       "    <tr>\n",
       "      <th>DAY_OF_MONTH</th>\n",
       "      <td>1</td>\n",
       "      <td>1</td>\n",
       "      <td>2</td>\n",
       "      <td>3</td>\n",
       "      <td>4</td>\n",
       "    </tr>\n",
       "    <tr>\n",
       "      <th>DAY_OF_WEEK</th>\n",
       "      <td>1</td>\n",
       "      <td>1</td>\n",
       "      <td>2</td>\n",
       "      <td>3</td>\n",
       "      <td>4</td>\n",
       "    </tr>\n",
       "    <tr>\n",
       "      <th>CARRIER</th>\n",
       "      <td>1</td>\n",
       "      <td>1</td>\n",
       "      <td>1</td>\n",
       "      <td>1</td>\n",
       "      <td>1</td>\n",
       "    </tr>\n",
       "    <tr>\n",
       "      <th>FL_NUM</th>\n",
       "      <td>3329</td>\n",
       "      <td>3359</td>\n",
       "      <td>3359</td>\n",
       "      <td>3291</td>\n",
       "      <td>3291</td>\n",
       "    </tr>\n",
       "    <tr>\n",
       "      <th>ROUTE</th>\n",
       "      <td>41</td>\n",
       "      <td>62</td>\n",
       "      <td>62</td>\n",
       "      <td>62</td>\n",
       "      <td>62</td>\n",
       "    </tr>\n",
       "    <tr>\n",
       "      <th>ORIGIN</th>\n",
       "      <td>5</td>\n",
       "      <td>12</td>\n",
       "      <td>12</td>\n",
       "      <td>12</td>\n",
       "      <td>12</td>\n",
       "    </tr>\n",
       "    <tr>\n",
       "      <th>DEST</th>\n",
       "      <td>22</td>\n",
       "      <td>22</td>\n",
       "      <td>22</td>\n",
       "      <td>22</td>\n",
       "      <td>22</td>\n",
       "    </tr>\n",
       "    <tr>\n",
       "      <th>CRS_DEP_TIME_HR</th>\n",
       "      <td>7</td>\n",
       "      <td>6</td>\n",
       "      <td>6</td>\n",
       "      <td>6</td>\n",
       "      <td>6</td>\n",
       "    </tr>\n",
       "    <tr>\n",
       "      <th>CRS_ARR_TIME_HR</th>\n",
       "      <td>8</td>\n",
       "      <td>8</td>\n",
       "      <td>8</td>\n",
       "      <td>8</td>\n",
       "      <td>8</td>\n",
       "    </tr>\n",
       "    <tr>\n",
       "      <th>CRS_ELAPSED_TIME</th>\n",
       "      <td>63</td>\n",
       "      <td>110</td>\n",
       "      <td>110</td>\n",
       "      <td>110</td>\n",
       "      <td>110</td>\n",
       "    </tr>\n",
       "    <tr>\n",
       "      <th>CRS_DEP_TIME_MIN</th>\n",
       "      <td>0</td>\n",
       "      <td>0</td>\n",
       "      <td>0</td>\n",
       "      <td>5</td>\n",
       "      <td>5</td>\n",
       "    </tr>\n",
       "    <tr>\n",
       "      <th>CRS_ARR_TIME_MIN</th>\n",
       "      <td>3</td>\n",
       "      <td>50</td>\n",
       "      <td>50</td>\n",
       "      <td>55</td>\n",
       "      <td>55</td>\n",
       "    </tr>\n",
       "    <tr>\n",
       "      <th>ARR_TIME_BLK</th>\n",
       "      <td>4</td>\n",
       "      <td>4</td>\n",
       "      <td>4</td>\n",
       "      <td>4</td>\n",
       "      <td>4</td>\n",
       "    </tr>\n",
       "    <tr>\n",
       "      <th>DEP_TIME_BLK</th>\n",
       "      <td>3</td>\n",
       "      <td>2</td>\n",
       "      <td>2</td>\n",
       "      <td>2</td>\n",
       "      <td>2</td>\n",
       "    </tr>\n",
       "    <tr>\n",
       "      <th>DISTANCE</th>\n",
       "      <td>145</td>\n",
       "      <td>500</td>\n",
       "      <td>500</td>\n",
       "      <td>500</td>\n",
       "      <td>500</td>\n",
       "    </tr>\n",
       "    <tr>\n",
       "      <th>PASSENGERS</th>\n",
       "      <td>2677</td>\n",
       "      <td>3397</td>\n",
       "      <td>3397</td>\n",
       "      <td>3397</td>\n",
       "      <td>3397</td>\n",
       "    </tr>\n",
       "    <tr>\n",
       "      <th>EMPFULL</th>\n",
       "      <td>4191</td>\n",
       "      <td>4191</td>\n",
       "      <td>4191</td>\n",
       "      <td>4191</td>\n",
       "      <td>4191</td>\n",
       "    </tr>\n",
       "    <tr>\n",
       "      <th>EMPPART</th>\n",
       "      <td>109</td>\n",
       "      <td>109</td>\n",
       "      <td>109</td>\n",
       "      <td>109</td>\n",
       "      <td>109</td>\n",
       "    </tr>\n",
       "    <tr>\n",
       "      <th>EMPTOTAL</th>\n",
       "      <td>4300</td>\n",
       "      <td>4300</td>\n",
       "      <td>4300</td>\n",
       "      <td>4300</td>\n",
       "      <td>4300</td>\n",
       "    </tr>\n",
       "    <tr>\n",
       "      <th>EMPFTE</th>\n",
       "      <td>4246</td>\n",
       "      <td>4246</td>\n",
       "      <td>4246</td>\n",
       "      <td>4246</td>\n",
       "      <td>4246</td>\n",
       "    </tr>\n",
       "    <tr>\n",
       "      <th>NET_INCOME</th>\n",
       "      <td>-126.37</td>\n",
       "      <td>-126.37</td>\n",
       "      <td>-126.37</td>\n",
       "      <td>-126.37</td>\n",
       "      <td>-126.37</td>\n",
       "    </tr>\n",
       "    <tr>\n",
       "      <th>OP_REVENUES</th>\n",
       "      <td>674.25</td>\n",
       "      <td>674.25</td>\n",
       "      <td>674.25</td>\n",
       "      <td>674.25</td>\n",
       "      <td>674.25</td>\n",
       "    </tr>\n",
       "    <tr>\n",
       "      <th>FLIGHTS_ORIGIN</th>\n",
       "      <td>1</td>\n",
       "      <td>1006</td>\n",
       "      <td>1006</td>\n",
       "      <td>1006</td>\n",
       "      <td>1006</td>\n",
       "    </tr>\n",
       "    <tr>\n",
       "      <th>PASSENGERS_ORIGIN</th>\n",
       "      <td>2677</td>\n",
       "      <td>3.53162e+06</td>\n",
       "      <td>3.53162e+06</td>\n",
       "      <td>3.53162e+06</td>\n",
       "      <td>3.53162e+06</td>\n",
       "    </tr>\n",
       "    <tr>\n",
       "      <th>FLIGHTS_OUT</th>\n",
       "      <td>1</td>\n",
       "      <td>296</td>\n",
       "      <td>296</td>\n",
       "      <td>296</td>\n",
       "      <td>296</td>\n",
       "    </tr>\n",
       "    <tr>\n",
       "      <th>FLIGHTS_IN</th>\n",
       "      <td>3637</td>\n",
       "      <td>3637</td>\n",
       "      <td>3637</td>\n",
       "      <td>3637</td>\n",
       "      <td>3637</td>\n",
       "    </tr>\n",
       "    <tr>\n",
       "      <th>CRS_ELAPSED_TIME_na</th>\n",
       "      <td>False</td>\n",
       "      <td>False</td>\n",
       "      <td>False</td>\n",
       "      <td>False</td>\n",
       "      <td>False</td>\n",
       "    </tr>\n",
       "    <tr>\n",
       "      <th>PASSENGERS_na</th>\n",
       "      <td>False</td>\n",
       "      <td>False</td>\n",
       "      <td>False</td>\n",
       "      <td>False</td>\n",
       "      <td>False</td>\n",
       "    </tr>\n",
       "    <tr>\n",
       "      <th>EMPFULL_na</th>\n",
       "      <td>False</td>\n",
       "      <td>False</td>\n",
       "      <td>False</td>\n",
       "      <td>False</td>\n",
       "      <td>False</td>\n",
       "    </tr>\n",
       "    <tr>\n",
       "      <th>EMPPART_na</th>\n",
       "      <td>False</td>\n",
       "      <td>False</td>\n",
       "      <td>False</td>\n",
       "      <td>False</td>\n",
       "      <td>False</td>\n",
       "    </tr>\n",
       "    <tr>\n",
       "      <th>EMPTOTAL_na</th>\n",
       "      <td>False</td>\n",
       "      <td>False</td>\n",
       "      <td>False</td>\n",
       "      <td>False</td>\n",
       "      <td>False</td>\n",
       "    </tr>\n",
       "    <tr>\n",
       "      <th>EMPFTE_na</th>\n",
       "      <td>False</td>\n",
       "      <td>False</td>\n",
       "      <td>False</td>\n",
       "      <td>False</td>\n",
       "      <td>False</td>\n",
       "    </tr>\n",
       "    <tr>\n",
       "      <th>NET_INCOME_na</th>\n",
       "      <td>False</td>\n",
       "      <td>False</td>\n",
       "      <td>False</td>\n",
       "      <td>False</td>\n",
       "      <td>False</td>\n",
       "    </tr>\n",
       "    <tr>\n",
       "      <th>OP_REVENUES_na</th>\n",
       "      <td>False</td>\n",
       "      <td>False</td>\n",
       "      <td>False</td>\n",
       "      <td>False</td>\n",
       "      <td>False</td>\n",
       "    </tr>\n",
       "  </tbody>\n",
       "</table>\n",
       "</div>"
      ],
      "text/plain": [
       "                          0            1            2            3  \\\n",
       "YEAR                      1            1            1            1   \n",
       "QUARTER                   1            1            1            1   \n",
       "MONTH                     1            1            1            1   \n",
       "DAY_OF_MONTH              1            1            2            3   \n",
       "DAY_OF_WEEK               1            1            2            3   \n",
       "CARRIER                   1            1            1            1   \n",
       "FL_NUM                 3329         3359         3359         3291   \n",
       "ROUTE                    41           62           62           62   \n",
       "ORIGIN                    5           12           12           12   \n",
       "DEST                     22           22           22           22   \n",
       "CRS_DEP_TIME_HR           7            6            6            6   \n",
       "CRS_ARR_TIME_HR           8            8            8            8   \n",
       "CRS_ELAPSED_TIME         63          110          110          110   \n",
       "CRS_DEP_TIME_MIN          0            0            0            5   \n",
       "CRS_ARR_TIME_MIN          3           50           50           55   \n",
       "ARR_TIME_BLK              4            4            4            4   \n",
       "DEP_TIME_BLK              3            2            2            2   \n",
       "DISTANCE                145          500          500          500   \n",
       "PASSENGERS             2677         3397         3397         3397   \n",
       "EMPFULL                4191         4191         4191         4191   \n",
       "EMPPART                 109          109          109          109   \n",
       "EMPTOTAL               4300         4300         4300         4300   \n",
       "EMPFTE                 4246         4246         4246         4246   \n",
       "NET_INCOME          -126.37      -126.37      -126.37      -126.37   \n",
       "OP_REVENUES          674.25       674.25       674.25       674.25   \n",
       "FLIGHTS_ORIGIN            1         1006         1006         1006   \n",
       "PASSENGERS_ORIGIN      2677  3.53162e+06  3.53162e+06  3.53162e+06   \n",
       "FLIGHTS_OUT               1          296          296          296   \n",
       "FLIGHTS_IN             3637         3637         3637         3637   \n",
       "CRS_ELAPSED_TIME_na   False        False        False        False   \n",
       "PASSENGERS_na         False        False        False        False   \n",
       "EMPFULL_na            False        False        False        False   \n",
       "EMPPART_na            False        False        False        False   \n",
       "EMPTOTAL_na           False        False        False        False   \n",
       "EMPFTE_na             False        False        False        False   \n",
       "NET_INCOME_na         False        False        False        False   \n",
       "OP_REVENUES_na        False        False        False        False   \n",
       "\n",
       "                               4  \n",
       "YEAR                           1  \n",
       "QUARTER                        1  \n",
       "MONTH                          1  \n",
       "DAY_OF_MONTH                   4  \n",
       "DAY_OF_WEEK                    4  \n",
       "CARRIER                        1  \n",
       "FL_NUM                      3291  \n",
       "ROUTE                         62  \n",
       "ORIGIN                        12  \n",
       "DEST                          22  \n",
       "CRS_DEP_TIME_HR                6  \n",
       "CRS_ARR_TIME_HR                8  \n",
       "CRS_ELAPSED_TIME             110  \n",
       "CRS_DEP_TIME_MIN               5  \n",
       "CRS_ARR_TIME_MIN              55  \n",
       "ARR_TIME_BLK                   4  \n",
       "DEP_TIME_BLK                   2  \n",
       "DISTANCE                     500  \n",
       "PASSENGERS                  3397  \n",
       "EMPFULL                     4191  \n",
       "EMPPART                      109  \n",
       "EMPTOTAL                    4300  \n",
       "EMPFTE                      4246  \n",
       "NET_INCOME               -126.37  \n",
       "OP_REVENUES               674.25  \n",
       "FLIGHTS_ORIGIN              1006  \n",
       "PASSENGERS_ORIGIN    3.53162e+06  \n",
       "FLIGHTS_OUT                  296  \n",
       "FLIGHTS_IN                  3637  \n",
       "CRS_ELAPSED_TIME_na        False  \n",
       "PASSENGERS_na              False  \n",
       "EMPFULL_na                 False  \n",
       "EMPPART_na                 False  \n",
       "EMPTOTAL_na                False  \n",
       "EMPFTE_na                  False  \n",
       "NET_INCOME_na              False  \n",
       "OP_REVENUES_na             False  "
      ]
     },
     "execution_count": 36,
     "metadata": {},
     "output_type": "execute_result"
    }
   ],
   "source": [
    "df.head().T"
   ]
  },
  {
   "cell_type": "code",
   "execution_count": 37,
   "metadata": {},
   "outputs": [
    {
     "data": {
      "text/plain": [
       "YEAR                      int8\n",
       "QUARTER                  int64\n",
       "MONTH                    int64\n",
       "DAY_OF_MONTH             int64\n",
       "DAY_OF_WEEK              int64\n",
       "CARRIER                   int8\n",
       "FL_NUM                   int16\n",
       "ROUTE                    int16\n",
       "ORIGIN                   int16\n",
       "DEST                     int16\n",
       "CRS_DEP_TIME_HR          int64\n",
       "CRS_ARR_TIME_HR          int64\n",
       "CRS_ELAPSED_TIME       float64\n",
       "CRS_DEP_TIME_MIN         int64\n",
       "CRS_ARR_TIME_MIN         int64\n",
       "ARR_TIME_BLK              int8\n",
       "DEP_TIME_BLK              int8\n",
       "DISTANCE                 int16\n",
       "PASSENGERS             float64\n",
       "EMPFULL                float64\n",
       "EMPPART                float64\n",
       "EMPTOTAL               float64\n",
       "EMPFTE                 float64\n",
       "NET_INCOME             float64\n",
       "OP_REVENUES            float64\n",
       "FLIGHTS_ORIGIN           int64\n",
       "PASSENGERS_ORIGIN      float64\n",
       "FLIGHTS_OUT              int64\n",
       "FLIGHTS_IN               int64\n",
       "CRS_ELAPSED_TIME_na       bool\n",
       "PASSENGERS_na             bool\n",
       "EMPFULL_na                bool\n",
       "EMPPART_na                bool\n",
       "EMPTOTAL_na               bool\n",
       "EMPFTE_na                 bool\n",
       "NET_INCOME_na             bool\n",
       "OP_REVENUES_na            bool\n",
       "dtype: object"
      ]
     },
     "execution_count": 37,
     "metadata": {},
     "output_type": "execute_result"
    }
   ],
   "source": [
    "df.dtypes"
   ]
  },
  {
   "cell_type": "code",
   "execution_count": 38,
   "metadata": {},
   "outputs": [],
   "source": [
    "y = np.array(y)"
   ]
  },
  {
   "cell_type": "code",
   "execution_count": 39,
   "metadata": {},
   "outputs": [],
   "source": [
    "from sklearn.impute import SimpleImputer\n",
    "\n",
    "imp = SimpleImputer(missing_values=np.nan, strategy='median')\n",
    "y = imp.fit_transform(y.reshape(-1,1))"
   ]
  },
  {
   "cell_type": "markdown",
   "metadata": {},
   "source": [
    "## Final model"
   ]
  },
  {
   "cell_type": "code",
   "execution_count": 50,
   "metadata": {},
   "outputs": [],
   "source": [
    "from sklearn.model_selection import train_test_split"
   ]
  },
  {
   "cell_type": "code",
   "execution_count": 51,
   "metadata": {},
   "outputs": [],
   "source": [
    "n_samples = 1000000\n",
    "df_test, y_test = df.loc[:n_samples-1], y[:n_samples]"
   ]
  },
  {
   "cell_type": "code",
   "execution_count": 52,
   "metadata": {},
   "outputs": [],
   "source": [
    "X_train, X_valid, y_train, y_valid = train_test_split(df_test, y_test, test_size=0.05, random_state=0) "
   ]
  },
  {
   "cell_type": "code",
   "execution_count": 53,
   "metadata": {},
   "outputs": [
    {
     "name": "stdout",
     "output_type": "stream",
     "text": [
      "(950000, 37) (50000, 37)\n"
     ]
    }
   ],
   "source": [
    "print(X_train.shape, X_valid.shape)"
   ]
  },
  {
   "cell_type": "markdown",
   "metadata": {},
   "source": [
    "## Confidence based on tree variance"
   ]
  },
  {
   "cell_type": "code",
   "execution_count": 54,
   "metadata": {},
   "outputs": [],
   "source": [
    "# set_rf_samples(100000)"
   ]
  },
  {
   "cell_type": "code",
   "execution_count": 55,
   "metadata": {},
   "outputs": [
    {
     "name": "stderr",
     "output_type": "stream",
     "text": [
      "/home/grads/s/sheelabhadra/Projects/Pi-star-Skyblazers-DSC-2020/env/lib/python3.5/site-packages/ipykernel_launcher.py:1: DataConversionWarning: A column-vector y was passed when a 1d array was expected. Please change the shape of y to (n_samples,), for example using ravel().\n",
      "  \"\"\"Entry point for launching an IPython kernel.\n"
     ]
    },
    {
     "name": "stdout",
     "output_type": "stream",
     "text": [
      "CPU times: user 8min 32s, sys: 908 ms, total: 8min 32s\n",
      "Wall time: 37.8 s\n"
     ]
    },
    {
     "data": {
      "text/plain": [
       "RandomForestRegressor(bootstrap=True, ccp_alpha=0.0, criterion='mse',\n",
       "                      max_depth=None, max_features=0.5, max_leaf_nodes=None,\n",
       "                      max_samples=None, min_impurity_decrease=0.0,\n",
       "                      min_impurity_split=None, min_samples_leaf=3,\n",
       "                      min_samples_split=2, min_weight_fraction_leaf=0.0,\n",
       "                      n_estimators=40, n_jobs=-1, oob_score=False,\n",
       "                      random_state=None, verbose=0, warm_start=False)"
      ]
     },
     "execution_count": 55,
     "metadata": {},
     "output_type": "execute_result"
    }
   ],
   "source": [
    "m = RandomForestRegressor(n_estimators=40, min_samples_leaf=3, n_jobs=-1, max_features=0.5)\n",
    "%time m.fit(X_train, y_train)"
   ]
  },
  {
   "cell_type": "code",
   "execution_count": 56,
   "metadata": {},
   "outputs": [],
   "source": [
    "from sklearn.metrics import mean_squared_error"
   ]
  },
  {
   "cell_type": "code",
   "execution_count": 57,
   "metadata": {},
   "outputs": [
    {
     "name": "stdout",
     "output_type": "stream",
     "text": [
      "[8.144029283589028, 11.36926797992311, 0.5249387264928086, 0.07589632785970023]\n"
     ]
    }
   ],
   "source": [
    "res = [math.sqrt(mean_squared_error(m.predict(X_train), y_train)), math.sqrt(mean_squared_error(m.predict(X_valid), y_valid)),\n",
    "                m.score(X_train, y_train), m.score(X_valid, y_valid)]\n",
    "print(res)"
   ]
  },
  {
   "cell_type": "code",
   "execution_count": 58,
   "metadata": {},
   "outputs": [
    {
     "name": "stdout",
     "output_type": "stream",
     "text": [
      "CPU times: user 748 ms, sys: 908 ms, total: 1.66 s\n",
      "Wall time: 2.3 s\n"
     ]
    },
    {
     "data": {
      "text/plain": [
       "(1.4462301587301587, 1.8982774378474196)"
      ]
     },
     "execution_count": 58,
     "metadata": {},
     "output_type": "execute_result"
    }
   ],
   "source": [
    "def get_preds(t): return t.predict(X_valid)\n",
    "%time preds = np.stack(parallel_trees(m, get_preds))\n",
    "np.mean(preds[:,0]), np.std(preds[:,0])"
   ]
  },
  {
   "cell_type": "code",
   "execution_count": 59,
   "metadata": {},
   "outputs": [
    {
     "data": {
      "text/plain": [
       "<matplotlib.axes._subplots.AxesSubplot at 0x7f2232d16ac8>"
      ]
     },
     "execution_count": 59,
     "metadata": {},
     "output_type": "execute_result"
    },
    {
     "data": {
      "image/png": "[encoded data removed]",
      "text/plain": [
       "<Figure size 720x1080 with 1 Axes>"
      ]
     },
     "metadata": {
      "needs_background": "light"
     },
     "output_type": "display_data"
    }
   ],
   "source": [
    "feat_importances = pd.Series(m.feature_importances_, index=df.columns)\n",
    "plt.figure(figsize=(10,15))\n",
    "feat_importances.nlargest(30).plot(kind='barh')"
   ]
  },
  {
   "cell_type": "markdown",
   "metadata": {},
   "source": [
    "## Removing redundant features"
   ]
  },
  {
   "cell_type": "code",
   "execution_count": 71,
   "metadata": {},
   "outputs": [],
   "source": [
    "from scipy.cluster import hierarchy as hc\n",
    "from scipy.spatial.distance import squareform"
   ]
  },
  {
   "cell_type": "code",
   "execution_count": 78,
   "metadata": {},
   "outputs": [],
   "source": [
    "#corr = np.round(scipy.stats.spearmanr(df_test).correlation, 4)\n",
    "#corr_condensed = squareform(1-corr)\n",
    "#z = hc.linkage(corr_condensed, method='average')\n",
    "#fig = plt.figure(figsize=(16,10))\n",
    "#dendrogram = hc.dendrogram(z, labels=df_test.columns, orientation='left', leaf_font_size=16)\n",
    "#plt.show()"
   ]
  },
  {
   "cell_type": "markdown",
   "metadata": {},
   "source": [
    "## Partial Dependence"
   ]
  },
  {
   "cell_type": "code",
   "execution_count": 80,
   "metadata": {},
   "outputs": [],
   "source": [
    "from pdpbox import pdp\n",
    "from plotnine import *"
   ]
  },
  {
   "cell_type": "code",
   "execution_count": 113,
   "metadata": {},
   "outputs": [],
   "source": [
    "x_all = get_sample(df_trim, 10000)"
   ]
  },
  {
   "cell_type": "code",
   "execution_count": 116,
   "metadata": {},
   "outputs": [
    {
     "data": {
      "image/png": "[encoded data removed]",
      "text/plain": [
       "<Figure size 640x480 with 1 Axes>"
      ]
     },
     "metadata": {},
     "output_type": "display_data"
    },
    {
     "data": {
      "text/plain": [
       "<ggplot: (8736553578581)>"
      ]
     },
     "execution_count": 116,
     "metadata": {},
     "output_type": "execute_result"
    }
   ],
   "source": [
    "ggplot(x_all, aes('DAY_OF_MONTH', 'DEP_DELAY_NEW'))+stat_smooth(se=True, method='loess')"
   ]
  },
  {
   "cell_type": "code",
   "execution_count": 128,
   "metadata": {},
   "outputs": [],
   "source": [
    "x = get_sample(X_train, 1000)"
   ]
  },
  {
   "cell_type": "code",
   "execution_count": 129,
   "metadata": {},
   "outputs": [],
   "source": [
    "def plot_pdp(feat, clusters=None, feat_name=None):\n",
    "    feat_name = feat_name or feat\n",
    "    p = pdp.pdp_isolate(m, x, df_test.columns, feat)\n",
    "    return pdp.pdp_plot(p, feat_name, plot_lines=True,\n",
    "                        cluster=clusters is not None,\n",
    "                        n_cluster_centers=clusters)"
   ]
  },
  {
   "cell_type": "code",
   "execution_count": 133,
   "metadata": {},
   "outputs": [
    {
     "data": {
      "text/plain": [
       "(<Figure size 1080x684 with 2 Axes>,\n",
       " {'pdp_ax': <matplotlib.axes._subplots.AxesSubplot at 0x7f22301afe48>,\n",
       "  'title_ax': <matplotlib.axes._subplots.AxesSubplot at 0x7f2230180550>})"
      ]
     },
     "execution_count": 133,
     "metadata": {},
     "output_type": "execute_result"
    },
    {
     "data": {
      "image/png": "[encoded data removed]",
      "text/plain": [
       "<Figure size 1080x684 with 2 Axes>"
      ]
     },
     "metadata": {
      "needs_background": "light"
     },
     "output_type": "display_data"
    }
   ],
   "source": [
    "plot_pdp(feat='DAY_OF_WEEK', clusters=5)"
   ]
  },
  {
   "cell_type": "code",
   "execution_count": 134,
   "metadata": {},
   "outputs": [
    {
     "data": {
      "text/plain": [
       "(<Figure size 1080x684 with 2 Axes>,\n",
       " {'pdp_ax': <matplotlib.axes._subplots.AxesSubplot at 0x7f22300f4240>,\n",
       "  'title_ax': <matplotlib.axes._subplots.AxesSubplot at 0x7f2230185be0>})"
      ]
     },
     "execution_count": 134,
     "metadata": {},
     "output_type": "execute_result"
    },
    {
     "data": {
      "image/png": "[encoded data removed]",
      "text/plain": [
       "<Figure size 1080x684 with 2 Axes>"
      ]
     },
     "metadata": {
      "needs_background": "light"
     },
     "output_type": "display_data"
    }
   ],
   "source": [
    "plot_pdp(feat='DAY_OF_MONTH', clusters=5)"
   ]
  },
  {
   "cell_type": "markdown",
   "metadata": {},
   "source": [
    "## Tree Interpreter"
   ]
  },
  {
   "cell_type": "code",
   "execution_count": 137,
   "metadata": {},
   "outputs": [],
   "source": [
    "from treeinterpreter import treeinterpreter as ti"
   ]
  },
  {
   "cell_type": "code",
   "execution_count": null,
   "metadata": {},
   "outputs": [],
   "source": []
  },
  {
   "cell_type": "code",
   "execution_count": null,
   "metadata": {},
   "outputs": [],
   "source": []
  },
  {
   "cell_type": "code",
   "execution_count": null,
   "metadata": {},
   "outputs": [],
   "source": []
  },
  {
   "cell_type": "code",
   "execution_count": null,
   "metadata": {},
   "outputs": [],
   "source": []
  },
  {
   "cell_type": "markdown",
   "metadata": {},
   "source": [
    "## Select features"
   ]
  },
  {
   "cell_type": "code",
   "execution_count": 43,
   "metadata": {},
   "outputs": [],
   "source": [
    "cols_to_keep = feat_importances[feat_importances > 0.03]"
   ]
  },
  {
   "cell_type": "code",
   "execution_count": 44,
   "metadata": {},
   "outputs": [],
   "source": [
    "df_full = df[cols_to_keep.index]\n",
    "df_dummy = df[:5]\n",
    "del df\n",
    "del df_trim\n",
    "del df_test"
   ]
  },
  {
   "cell_type": "code",
   "execution_count": 45,
   "metadata": {},
   "outputs": [],
   "source": [
    "X_train, X_valid, y_train, y_valid = train_test_split(df_full, y, test_size=0.05, random_state=42) "
   ]
  },
  {
   "cell_type": "code",
   "execution_count": 46,
   "metadata": {},
   "outputs": [
    {
     "name": "stdout",
     "output_type": "stream",
     "text": [
      "(9507372, 7) (500388, 7)\n"
     ]
    }
   ],
   "source": [
    "print(X_train.shape, X_valid.shape)"
   ]
  },
  {
   "cell_type": "code",
   "execution_count": 47,
   "metadata": {},
   "outputs": [],
   "source": [
    "del df_full\n",
    "del y"
   ]
  },
  {
   "cell_type": "code",
   "execution_count": null,
   "metadata": {},
   "outputs": [
    {
     "name": "stderr",
     "output_type": "stream",
     "text": [
      "/home/grads/s/sheelabhadra/Projects/Pi-star-Skyblazers-DSC-2020/env/lib/python3.5/site-packages/ipykernel_launcher.py:1: DataConversionWarning: A column-vector y was passed when a 1d array was expected. Please change the shape of y to (n_samples,), for example using ravel().\n",
      "  \"\"\"Entry point for launching an IPython kernel.\n"
     ]
    }
   ],
   "source": [
    "m = RandomForestRegressor(n_estimators=40, min_samples_leaf=3, n_jobs=-1, max_features=0.5)\n",
    "%time m.fit(X_train, y_train)"
   ]
  },
  {
   "cell_type": "code",
   "execution_count": null,
   "metadata": {},
   "outputs": [],
   "source": [
    "res = [math.sqrt(mean_squared_error(m.predict(X_train), y_train)), math.sqrt(mean_squared_error(m.predict(X_valid), y_valid)),\n",
    "                m.score(X_train, y_train), m.score(X_valid, y_valid)]\n",
    "print(res)"
   ]
  },
  {
   "cell_type": "code",
   "execution_count": null,
   "metadata": {},
   "outputs": [],
   "source": [
    "feat_importances = pd.Series(m.feature_importances_, index=df_dummy[cols_to_keep.index].columns)\n",
    "feat_importances.nlargest(20).plot(kind='barh')"
   ]
  },
  {
   "cell_type": "code",
   "execution_count": null,
   "metadata": {},
   "outputs": [],
   "source": [
    "del X_train\n",
    "del y_train\n",
    "del X_valid\n",
    "del y_valid"
   ]
  }
 ],
 "metadata": {
  "kernelspec": {
   "display_name": "Python 3",
   "language": "python",
   "name": "python3"
  },
  "language_info": {
   "codemirror_mode": {
    "name": "ipython",
    "version": 3
   },
   "file_extension": ".py",
   "mimetype": "text/x-python",
   "name": "python",
   "nbconvert_exporter": "python",
   "pygments_lexer": "ipython3",
   "version": "3.5.2"
  }
 },
 "nbformat": 4,
 "nbformat_minor": 4
}
